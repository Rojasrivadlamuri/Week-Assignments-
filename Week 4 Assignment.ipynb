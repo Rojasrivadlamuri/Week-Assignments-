{
 "cells": [
  {
   "cell_type": "code",
   "execution_count": null,
   "id": "d6c69f50",
   "metadata": {},
   "outputs": [],
   "source": [
    "Q1.TEAM ASSESMENTS\n",
    "\n",
    "The Team Leader of Testing team of XYZ company decided to assess the team members by organising a programming event. So he gave the team a task.\n",
    "The task is given an array of size N, find the number of distinct elements in the array and print them in ascending order. Those members who answer, will get some reward.\n",
    "Write a program to help the Team Leader to evaluate the solutions of the team members.\n",
    "\n",
    "Input format:\n",
    "The first line contains a single integer that denotes the size of the array, N.\n",
    "The second line contains N space separated integer values of the array.\n",
    "\n",
    "Output format:\n",
    "The first line is an integer that denotes the number of the distinct elements i nthe array.\n",
    "The second line is a series of integers seperated by space that denotes the distinct elements.\n",
    "\n",
    "Sample Input 1:\n",
    "5\n",
    "1 2 1 2 1\n",
    "Sample Output 1:\n",
    "2\n",
    "1 2\n",
    "\n",
    "Sample Input 2:\n",
    "5\n",
    "145 25 21 25 36\n",
    "Sample Output 2:\n",
    "4\n",
    "21 25 36 145"
   ]
  },
  {
   "cell_type": "code",
   "execution_count": 4,
   "id": "6b43f7a8",
   "metadata": {},
   "outputs": [
    {
     "name": "stdout",
     "output_type": "stream",
     "text": [
      "enter number of elements:2\n",
      "\n",
      "enter the number:23 54 143 65\n",
      "4\n",
      "23 54 65 143 "
     ]
    }
   ],
   "source": [
    "n=int(input(\"enter number of elements:\"))\n",
    "list1=list(map(int,input(\"\\nenter the number:\").split()))\n",
    "set1=set(list1)\n",
    "list2=list(map(int,set1))\n",
    "list2.sort()\n",
    "print(len(list2))\n",
    "for i in list2:\n",
    "    print(i,end=\" \")"
   ]
  },
  {
   "cell_type": "code",
   "execution_count": null,
   "id": "5c762a2a",
   "metadata": {},
   "outputs": [],
   "source": []
  },
  {
   "cell_type": "code",
   "execution_count": null,
   "id": "266d2fb3",
   "metadata": {},
   "outputs": [],
   "source": []
  },
  {
   "cell_type": "code",
   "execution_count": null,
   "id": "70a74262",
   "metadata": {},
   "outputs": [],
   "source": [
    "Q2.ANUSHKA’S PROBLEM\n",
    "\n",
    "Anuska has created a robot that will take instructions and work accordingly. Due to budget problem, she has set the memory low. To overcome that, she has to encode the instruction. Given the instruction S, count the consecutive characters and each character will be folowed by its frequency.\n",
    "For example, if the instruction is \"aaaabb\", the encoded instruction is \"a4b2\".\n",
    "\n",
    "Note:If the frequency is one, the count need not be printed.\n",
    "\n",
    "Input format:\n",
    "The first input is a string that denotes the instruction, S.\n",
    "\n",
    "Output format\n",
    "Output is a string that denotes the encoded string.\n",
    "\n",
    "Sample input 1:\n",
    "aaaabb\n",
    "Sample output 1:\n",
    "a4b2\n",
    "\n",
    "Sample input 2:\n",
    "sggvvvgss\n",
    "Sample output 2:\n",
    "sg2v3gs2 "
   ]
  },
  {
   "cell_type": "code",
   "execution_count": 24,
   "id": "58927555",
   "metadata": {},
   "outputs": [
    {
     "name": "stdout",
     "output_type": "stream",
     "text": [
      "Enter a string:sssrrrrssss\n",
      "s3r4s4\n"
     ]
    }
   ],
   "source": [
    "def decoding(s):\n",
    "\n",
    "    i = 0\n",
    "    while( i < len(s) - 1 ) :\n",
    "        count = 1\n",
    "        while s[i] == s[i+1] :\n",
    "            i += 1\n",
    "            count += 1\n",
    "            if i + 1 == len(s) :\n",
    "                break\n",
    "        print(str(s[i]), end = \"\")\n",
    "        if count!=1:\n",
    "            print(str(count), end=\"\")\n",
    "        i += 1\n",
    "    print()\n",
    "if __name__  == \"__main__\" :\n",
    "\n",
    "    decoding(input(\"Enter a string:\"))"
   ]
  },
  {
   "cell_type": "code",
   "execution_count": null,
   "id": "1c10dec8",
   "metadata": {},
   "outputs": [],
   "source": []
  },
  {
   "cell_type": "code",
   "execution_count": null,
   "id": "94cf50d0",
   "metadata": {},
   "outputs": [],
   "source": [
    "Q3.SKILL TESTING\n",
    "Amar's team is assigned with a project that deals with the digital signals. He is aware that the digital signals will be represented as arrays. He wants to test his team with respect to their strength in arrays.As part of the skill testing, the  task is as follows.\n",
    "You are given an array of integers of size N.\n",
    "Consider all its contiguous subarrays of length k and find the maximum sum.\n",
    "Do this for all k from 1 to the length of the input array.\n",
    "Write a program to evaluate the task done by the kids.\n",
    "\n",
    "Input format:\n",
    "The first line contains a single integer denotes the size of the array, N.\n",
    "The second line contains N-space separated integer that corresponds to the values of the array.\n",
    "\n",
    "Output format:\n",
    "The output consists of N-space separated integer values of the result array.\n",
    "\n",
    "Sample Input 1:\n",
    "5\n",
    "-1 2 1 3 -2\n",
    "Sample Output 1:\n",
    "3 4 6 5 3\n",
    "\n",
    "Explanation:\n",
    "For inputArray = [-1, 2, 1, 3, -2], the output should be [3, 2, 1, 0, 0].\n",
    "The contiguous subarray\n",
    "    of K = 1, each subarray will have 1 element. The sub-array with maximum sum is [3]. So result[0] = 3.\n",
    "    of K = 2, each subarray will have 2 elements. The sub-array with maximum sum is [1,3]. So result[1] = 4.\n",
    "    of K = 3, each subarray will have 3 elements. The sub-array with maximum sum is [2,1,3]. So result[2] = 6.\n",
    "    of K = 4, each subarray will have 4 elements. The sub-array with maximum sum is [-1,2,1,3]. So result[1] = 5.\n",
    "    of K = 5, each subarray will have 5 elements. The sub-array with maximum sum is [-1,2,1,3,-2]. So result[1] = 3.\n",
    "So the result array is [3, 4, 6, 5, 3].\n",
    "\n",
    "Sample Input 2:\n",
    "5\n",
    "2 3 2 -2 3\n",
    "Sample Output 2:\n",
    "3 5 7 6 8 "
   ]
  },
  {
   "cell_type": "code",
   "execution_count": null,
   "id": "e8719bf4",
   "metadata": {},
   "outputs": [],
   "source": []
  },
  {
   "cell_type": "code",
   "execution_count": null,
   "id": "31d57c3e",
   "metadata": {},
   "outputs": [],
   "source": []
  },
  {
   "cell_type": "code",
   "execution_count": null,
   "id": "624c0217",
   "metadata": {},
   "outputs": [],
   "source": []
  }
 ],
 "metadata": {
  "kernelspec": {
   "display_name": "Python 3 (ipykernel)",
   "language": "python",
   "name": "python3"
  },
  "language_info": {
   "codemirror_mode": {
    "name": "ipython",
    "version": 3
   },
   "file_extension": ".py",
   "mimetype": "text/x-python",
   "name": "python",
   "nbconvert_exporter": "python",
   "pygments_lexer": "ipython3",
   "version": "3.10.4"
  }
 },
 "nbformat": 4,
 "nbformat_minor": 5
}
